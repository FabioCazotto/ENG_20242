# Exercício 1
frutas = {"maçã", "banana", "laranja", "uva"}
print(frutas)

# Exercício 2
frutas.add("morango")
frutas.add("uva")  # elemento já existente
print(frutas)

# Exercício 3
if "banana" in frutas:
    frutas.remove("banana")
print(frutas)

# Exercício 4
print("laranja" in frutas)

# Exercício 5
citrus = {"laranja", "limão", "tangerina"}
uniao_frutas_citrus = frutas.union(citrus)
print(uniao_frutas_citrus)

# Exercício 6
interseccao_frutas_citrus = frutas.intersection(citrus)
print(interseccao_frutas_citrus)

# Exercício 7
diferenca_frutas_citrus = frutas.difference(citrus)
print(diferenca_frutas_citrus)

# Exercício 8
citrus.clear()
print(citrus)

# Exercício 9
frutas_imutavel = frozenset(frutas)
print(frutas_imutavel)

# Exercício 10
print(len(frutas))
