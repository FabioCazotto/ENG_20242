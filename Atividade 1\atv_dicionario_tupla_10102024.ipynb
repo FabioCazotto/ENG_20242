# Exercício 1
cidades = ("São Paulo", "Rio de Janeiro", "Belo Horizonte", "Salvador", "Curitiba")
print(cidades[2])

# Exercício 2
numeros = (1, 2, 3, 1, 4, 1)
print(numeros.count(1))

# Exercício 3
animais = ("cachorro", "gato", "pássaro")
print("gato" in animais)

# Exercício 4
meses = ("janeiro", "fevereiro", "março", "abril", "maio")
print(meses.index("abril"))

# Exercício 5
coordenadas = (-23.5505, -46.6333)
latitude, longitude = coordenadas
print(latitude)
print(longitude)

# Exercício 6
carro = {"marca": "Toyota", "modelo": "Corolla", "ano": 2020}
print(carro["modelo"])

# Exercício 7
carro["cor"] = "preto"
print(carro)

# Exercício 8
pessoa = {"nome": "João", "idade": 30, "cidade": "São Paulo"}
pessoa.pop("idade")
print(pessoa)

# Exercício 9
produto = {"nome": "Notebook", "preco": 3000.0, "quantidade": 5}
for chave, valor in produto.items():
    print(chave, valor)

# Exercício 10
estudante = {"nome": "Maria", "curso": "Biologia", "ano": 2}
if "curso" in estudante:
    print("A estudante está no curso de Biologia.")

